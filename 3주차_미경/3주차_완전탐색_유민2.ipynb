{
 "cells": [
  {
   "cell_type": "markdown",
   "metadata": {},
   "source": [
    "## Q3. 삼각형 개수 세어보기"
   ]
  },
  {
   "cell_type": "code",
   "execution_count": 3,
   "metadata": {},
   "outputs": [
    {
     "name": "stdin",
     "output_type": "stream",
     "text": [
      " 4\n",
      " 1 2 3\n",
      " 1 0 0\n",
      " 3 3 4\n",
      " -4 2 3\n"
     ]
    },
    {
     "name": "stdout",
     "output_type": "stream",
     "text": [
      "4\n"
     ]
    }
   ],
   "source": [
    "board = [list(map(int, input().split(\" \"))) for i in range(int(input()))]\n",
    "count = 0\n",
    "tri_list = []\n",
    "for i in range(len(board)):\n",
    "     for j in range(len(board)):\n",
    "            if i != j:\n",
    "                if board[i][0]*board[j][1] == board[i][1]*board[j][0]:\n",
    "                    pass\n",
    "                else:\n",
    "                    for k in range(len(board)):\n",
    "                        if k != i and k != j:\n",
    "                            if (board[i][0]*board[k][1] != board[i][1]*board[k][0]) and (board[j][0]*board[k][1] != board[j][1]*board[k][0]):\n",
    "                                tri = [[board[i], board[j], board[k]]]\n",
    "                                if tri not in tri_list:\n",
    "                                    tri_list.append([board[i], board[j], board[k]])\n",
    "                                    count += 1\n",
    "\n",
    "print(int(count/6))"
   ]
  }
 ],
 "metadata": {
  "kernelspec": {
   "display_name": "Python 3",
   "language": "python",
   "name": "python3"
  },
  "language_info": {
   "codemirror_mode": {
    "name": "ipython",
    "version": 3
   },
   "file_extension": ".py",
   "mimetype": "text/x-python",
   "name": "python",
   "nbconvert_exporter": "python",
   "pygments_lexer": "ipython3",
   "version": "3.7.6"
  }
 },
 "nbformat": 4,
 "nbformat_minor": 4
}
