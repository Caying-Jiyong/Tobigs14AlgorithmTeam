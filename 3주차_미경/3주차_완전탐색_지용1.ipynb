{
 "cells": [
  {
   "cell_type": "markdown",
   "metadata": {},
   "source": [
    "## Q2. 방정식 풀기 (완전탐색1)"
   ]
  },
  {
   "cell_type": "code",
   "execution_count": 1,
   "metadata": {},
   "outputs": [
    {
     "name": "stdin",
     "output_type": "stream",
     "text": [
      " 2\n",
      " 1 2 3\n",
      " 6 6 14\n"
     ]
    },
    {
     "name": "stdout",
     "output_type": "stream",
     "text": [
      "No solution.\n",
      "1 2 3\n"
     ]
    }
   ],
   "source": [
    "Q = [list(map(int, input().split(\" \"))) for i in range(int(input()))]\n",
    "\n",
    "for i in range(len(Q)):\n",
    "    solution = False\n",
    "    A, B, C = Q[i]\n",
    "    for x in range(1, 101):\n",
    "        for y in range(1, 101):\n",
    "            for z in range(1, 101):\n",
    "                if x + y + z == A and x*y*z == B and x**2 + y**2 + z**2 == C:\n",
    "                    if x <= y and y <= z:\n",
    "                        print(x, y, z)\n",
    "                        solution = True\n",
    "    if solution != True:\n",
    "        print(\"No solution.\")"
   ]
  }
 ],
 "metadata": {
  "kernelspec": {
   "display_name": "Python 3",
   "language": "python",
   "name": "python3"
  },
  "language_info": {
   "codemirror_mode": {
    "name": "ipython",
    "version": 3
   },
   "file_extension": ".py",
   "mimetype": "text/x-python",
   "name": "python",
   "nbconvert_exporter": "python",
   "pygments_lexer": "ipython3",
   "version": "3.7.6"
  }
 },
 "nbformat": 4,
 "nbformat_minor": 4
}
