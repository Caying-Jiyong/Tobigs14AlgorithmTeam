{
 "cells": [
  {
   "cell_type": "markdown",
   "metadata": {},
   "source": [
    "## Q3. Bad Code (완전탐색2)"
   ]
  },
  {
   "cell_type": "code",
   "execution_count": 1,
   "metadata": {},
   "outputs": [
    {
     "name": "stdin",
     "output_type": "stream",
     "text": [
      " 5\n",
      " a 12\n",
      " b 1\n",
      " c 2\n",
      " d 3\n",
      " e 23\n",
      " 123\n",
      " 2\n",
      " o 10\n",
      " x 1\n",
      " 1010101\n",
      " 0\n"
     ]
    }
   ],
   "source": [
    "total_dic = []\n",
    "total_result = []\n",
    "while True:\n",
    "    test_case = int(input())\n",
    "    if test_case == 0:\n",
    "        break\n",
    "    dic = {}\n",
    "    for i in range(test_case):\n",
    "        alp, val = input().split(\" \")\n",
    "        dic[val] = alp\n",
    "    result = input()\n",
    "    \n",
    "    total_dic.append(dic)\n",
    "    total_result.append(result)"
   ]
  },
  {
   "cell_type": "code",
   "execution_count": 4,
   "metadata": {},
   "outputs": [
    {
     "name": "stdout",
     "output_type": "stream",
     "text": [
      "Case #1\n",
      "ad\n",
      "bcd\n",
      "be\n",
      "\n",
      "\n",
      "Case #2\n",
      "ooox\n",
      "ooxx\n",
      "oxox\n",
      "oxxx\n",
      "xoox\n",
      "xoxx\n",
      "xxox\n",
      "xxxx\n",
      "\n",
      "\n"
     ]
    }
   ],
   "source": [
    "def bad_code(dic, alp_list, result, output):\n",
    "    for alp in range(len(alp_list)):\n",
    "        if result.find(alp_list[alp]) == 0: #확인해서 있다면\n",
    "            new_output = output + dic[alp_list[alp]]\n",
    "            new_result = result.replace(alp_list[alp], \"\", 1)\n",
    "            \n",
    "            if new_result == \"\":\n",
    "                print(new_output)\n",
    "                return new_output\n",
    "            \n",
    "            else:\n",
    "                bad_code(dic, alp_list, new_result, new_output)\n",
    "        \n",
    "            if new_result.find('0') == 0:\n",
    "                new_result2 = new_result.replace(\"0\", \"\", 1)\n",
    "                bad_code(dic, alp_list, new_result2, new_output)\n",
    "        \n",
    "        \n",
    "for i in range(len(total_dic)):\n",
    "    result_alp = [] #output으로 출력할 결과 집합\n",
    "    print(\"Case #\",i+1,sep=\"\")\n",
    "    alp_list = list(total_dic[i].keys())\n",
    "    output = \"\"\n",
    "    bad_code(total_dic[i], alp_list, total_result[i], output)\n",
    "    print(\"\\n\")\n"
   ]
  }
 ],
 "metadata": {
  "kernelspec": {
   "display_name": "Python 3",
   "language": "python",
   "name": "python3"
  },
  "language_info": {
   "codemirror_mode": {
    "name": "ipython",
    "version": 3
   },
   "file_extension": ".py",
   "mimetype": "text/x-python",
   "name": "python",
   "nbconvert_exporter": "python",
   "pygments_lexer": "ipython3",
   "version": "3.7.6"
  }
 },
 "nbformat": 4,
 "nbformat_minor": 4
}
