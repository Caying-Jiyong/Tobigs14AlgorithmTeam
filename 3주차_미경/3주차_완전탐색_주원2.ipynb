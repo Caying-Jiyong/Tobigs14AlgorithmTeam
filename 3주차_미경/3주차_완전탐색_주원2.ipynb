{
 "cells": [
  {
   "cell_type": "markdown",
   "metadata": {},
   "source": [
    "## Q3. 지뢰찾기 (완전탐색2)"
   ]
  },
  {
   "cell_type": "code",
   "execution_count": null,
   "metadata": {},
   "outputs": [],
   "source": [
    "N = int(input())\n",
    "Q = [input() for i in range(N)]\n",
    "\n",
    "answer = 0\n",
    "for i in range(1, N-1):\n",
    "    for j in range(1, N-1):\n",
    "        if '0' not in Q[i-1][j-1:j+2] + Q[i][j-1:j+2] + Q[i+1][j-1:j+2]:\n",
    "            answer += 1\n",
    "print(answer)"
   ]
  }
 ],
 "metadata": {
  "kernelspec": {
   "display_name": "Python 3",
   "language": "python",
   "name": "python3"
  },
  "language_info": {
   "codemirror_mode": {
    "name": "ipython",
    "version": 3
   },
   "file_extension": ".py",
   "mimetype": "text/x-python",
   "name": "python",
   "nbconvert_exporter": "python",
   "pygments_lexer": "ipython3",
   "version": "3.7.6"
  }
 },
 "nbformat": 4,
 "nbformat_minor": 4
}
