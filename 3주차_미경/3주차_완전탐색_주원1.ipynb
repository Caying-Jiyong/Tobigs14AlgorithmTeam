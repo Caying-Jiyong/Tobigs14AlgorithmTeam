{
 "cells": [
  {
   "cell_type": "markdown",
   "metadata": {},
   "source": [
    "## Q2. 나무꾼 이다솜 (완전탐색1)"
   ]
  },
  {
   "cell_type": "code",
   "execution_count": null,
   "metadata": {},
   "outputs": [],
   "source": [
    "n, cut, price = map(int, input().split(\" \"))\n",
    "woods = [(int(input())) for i in range(n)]\n",
    "\n",
    "prices = []\n",
    "for length in range(2, min(woods)+1):\n",
    "    cut_total = 0\n",
    "    price_total = 0\n",
    "    for k in range(n):\n",
    "        cut_n = 0\n",
    "        price_n = 0\n",
    "        if woods[k] % length == 0:\n",
    "            cut_n = cut * woods[k] // (length)\n",
    "            price_n = length * price * woods[k] // (length)\n",
    "\n",
    "        else:\n",
    "            cut_n = cut * woods[k] // length\n",
    "            price_n = length * price * (woods[k] // length)\n",
    "\n",
    "        price_total += price_n\n",
    "        cut_total += cut_n\n",
    "        \n",
    "    prices.append(price_total - cut_total)\n",
    "\n",
    "print(max(prices))"
   ]
  }
 ],
 "metadata": {
  "kernelspec": {
   "display_name": "Python 3",
   "language": "python",
   "name": "python3"
  },
  "language_info": {
   "codemirror_mode": {
    "name": "ipython",
    "version": 3
   },
   "file_extension": ".py",
   "mimetype": "text/x-python",
   "name": "python",
   "nbconvert_exporter": "python",
   "pygments_lexer": "ipython3",
   "version": "3.7.6"
  }
 },
 "nbformat": 4,
 "nbformat_minor": 4
}
